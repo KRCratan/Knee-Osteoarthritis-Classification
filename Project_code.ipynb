{
 "cells": [
  {
   "cell_type": "code",
   "execution_count": 1,
   "id": "527bff85-81ad-4e2b-998c-837e31a40518",
   "metadata": {},
   "outputs": [],
   "source": [
    "#import Library\n",
    "from keras.models import load_model  \n",
    "from PIL import Image, ImageOps \n",
    "import numpy as np\n",
    "import os\n",
    "from tensorflow.keras.layers import DepthwiseConv2D\n",
    "\n"
   ]
  },
  {
   "cell_type": "code",
   "execution_count": 3,
   "id": "5438fa6d-556a-4a71-bc5d-09423064f1bb",
   "metadata": {},
   "outputs": [],
   "source": [
    "# Disable scientific notation for clarity\n",
    "np.set_printoptions(suppress=True)"
   ]
  },
  {
   "cell_type": "code",
   "execution_count": 5,
   "id": "7b07c5f3-ce03-45a2-ad1d-91a5de29de0a",
   "metadata": {},
   "outputs": [],
   "source": [
    "# Custom DepthwiseConv2D to handle 'groups' argument issue\n",
    "class CustomDepthwiseConv2D(DepthwiseConv2D):\n",
    "    def __init__(self, *args, **kwargs):\n",
    "        if 'groups' in kwargs:\n",
    "            del kwargs['groups']  \n",
    "        super(CustomDepthwiseConv2D, self).__init__(*args, **kwargs)"
   ]
  },
  {
   "cell_type": "code",
   "execution_count": 7,
   "id": "77352237-33fe-47a6-ac10-a33d52544570",
   "metadata": {
    "scrolled": true
   },
   "outputs": [
    {
     "name": "stderr",
     "output_type": "stream",
     "text": [
      "C:\\Users\\ratan\\anaconda3\\Lib\\site-packages\\keras\\src\\layers\\core\\dense.py:87: UserWarning: Do not pass an `input_shape`/`input_dim` argument to a layer. When using Sequential models, prefer using an `Input(shape)` object as the first layer in the model instead.\n",
      "  super().__init__(activity_regularizer=activity_regularizer, **kwargs)\n",
      "WARNING:absl:No training configuration found in the save file, so the model was *not* compiled. Compile it manually.\n"
     ]
    },
    {
     "name": "stdin",
     "output_type": "stream",
     "text": [
      "Please enter the path to the image file:  C:\\Users\\ratan\\Desktop\\Dataset\\KneeXrayData\\ClsKLData\\Project\\kneeKL224\\test\\1\\9004184L.png\n"
     ]
    },
    {
     "name": "stdout",
     "output_type": "stream",
     "text": [
      "\u001b[1m1/1\u001b[0m \u001b[32m━━━━━━━━━━━━━━━━━━━━\u001b[0m\u001b[37m\u001b[0m \u001b[1m3s\u001b[0m 3s/step\n",
      "Class: Moderate\n",
      "Confidence Score: 0.9480606\n"
     ]
    }
   ],
   "source": [
    "# Load the model with custom objects\n",
    "custom_objects = {'DepthwiseConv2D': CustomDepthwiseConv2D}\n",
    "model = load_model(\"keras_model.h5\", custom_objects=custom_objects)\n",
    "\n",
    "# Load the labels\n",
    "class_names = open(\"labels.txt\", \"r\").readlines()\n",
    "\n",
    "\n",
    "\n",
    "def predict_image(image_path):\n",
    "    # Create the array of the right shape to feed into the keras model\n",
    "    data = np.ndarray(shape=(1, 224, 224, 3), dtype=np.float32)\n",
    "\n",
    "    # Load the image\n",
    "    image = Image.open(image_path).convert(\"RGB\")\n",
    "\n",
    "    # Resize the image to 224x224\n",
    "    size = (224, 224)\n",
    "    image = ImageOps.fit(image, size, Image.Resampling.LANCZOS)\n",
    "\n",
    "    # Convert image to numpy array\n",
    "    image_array = np.asarray(image)\n",
    "\n",
    "    # Normalize the image\n",
    "    normalized_image_array = (image_array.astype(np.float32) / 127.5) - 1\n",
    "\n",
    "    # Load the image into the array\n",
    "    data[0] = normalized_image_array\n",
    "\n",
    "    # Predict the model\n",
    "    prediction = model.predict(data)\n",
    "    index = np.argmax(prediction)\n",
    "    class_name = class_names[index]\n",
    "    confidence_score = prediction[0][index]\n",
    "\n",
    "    # Print prediction and confidence score\n",
    "    print(\"Class:\", class_name[2:], end=\"\")  # Removing any leading characters (e.g., whitespace or '0')\n",
    "    print(\"Confidence Score:\", confidence_score)\n",
    "\n",
    "if __name__ == \"__main__\":\n",
    "    # Ask user for the image file path\n",
    "    image_path = input(\"Please enter the path to the image file: \").strip()\n",
    "\n",
    "    # Normalize path slashes\n",
    "    image_path = image_path.replace(\"\\\\\", \"/\")\n",
    "\n",
    "    # Check if the file exists\n",
    "    if os.path.isfile(image_path):\n",
    "        predict_image(image_path)\n",
    "    else:\n",
    "        print(f\"Error: File does not exist at {image_path}. Please check the path.\")\n",
    "\n"
   ]
  },
  {
   "cell_type": "code",
   "execution_count": null,
   "id": "a50cc0dc-29ee-4ccf-952d-3a304406daa0",
   "metadata": {},
   "outputs": [],
   "source": []
  }
 ],
 "metadata": {
  "kernelspec": {
   "display_name": "Python [conda env:base] *",
   "language": "python",
   "name": "conda-base-py"
  },
  "language_info": {
   "codemirror_mode": {
    "name": "ipython",
    "version": 3
   },
   "file_extension": ".py",
   "mimetype": "text/x-python",
   "name": "python",
   "nbconvert_exporter": "python",
   "pygments_lexer": "ipython3",
   "version": "3.12.7"
  }
 },
 "nbformat": 4,
 "nbformat_minor": 5
}
